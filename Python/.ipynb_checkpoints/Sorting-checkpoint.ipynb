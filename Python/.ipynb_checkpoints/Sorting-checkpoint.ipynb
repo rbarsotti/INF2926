{
 "cells": [
  {
   "cell_type": "markdown",
   "metadata": {},
   "source": [
    "# Analysis of Algorithms\n",
    "## Sorting\n",
    "#### Rafael Barsotti - 31/03/2020"
   ]
  },
  {
   "cell_type": "code",
   "execution_count": 1,
   "metadata": {},
   "outputs": [],
   "source": [
    "import random\n",
    "import math as m"
   ]
  },
  {
   "cell_type": "code",
   "execution_count": 2,
   "metadata": {},
   "outputs": [],
   "source": [
    "def randArray(n):\n",
    "    l = []\n",
    "    while len(l) < n:\n",
    "        l.append(random.randint(1,6000))\n",
    "    return l"
   ]
  },
  {
   "cell_type": "markdown",
   "metadata": {},
   "source": [
    "###### Bubble Sort"
   ]
  },
  {
   "cell_type": "markdown",
   "metadata": {},
   "source": [
    "$T(n) = \\mathcal{O}(n^2)$"
   ]
  },
  {
   "cell_type": "code",
   "execution_count": 3,
   "metadata": {},
   "outputs": [
    {
     "name": "stdout",
     "output_type": "stream",
     "text": [
      "[4670, 3057, 1119, 3929, 2494, 3895, 392, 3473, 2242, 2822]\n",
      "[392, 1119, 2242, 2494, 2822, 3057, 3473, 3895, 3929, 4670]\n"
     ]
    }
   ],
   "source": [
    "def bubbleSort(array):\n",
    "    size = len(array)\n",
    "    for i in range(size):\n",
    "        for j in range(size -1):\n",
    "            if array[j+1] < array[j]:\n",
    "                temp = array[j]\n",
    "                array[j] = array[j+1]\n",
    "                array[j+1] = temp\n",
    "    return array\n",
    "\n",
    "l1 = randArray(10)\n",
    "print(l1)\n",
    "l2 = bubbleSort(l1)\n",
    "print(l2)"
   ]
  },
  {
   "cell_type": "markdown",
   "metadata": {},
   "source": [
    "###### Mergesort"
   ]
  },
  {
   "cell_type": "markdown",
   "metadata": {},
   "source": [
    "$T(n) = \\mathcal{O}(nlog(n))$"
   ]
  },
  {
   "cell_type": "code",
   "execution_count": 440,
   "metadata": {},
   "outputs": [
    {
     "name": "stdout",
     "output_type": "stream",
     "text": [
      "[4597, 5530, 5684, 672, 5770, 1054, 1839, 1353]\n",
      "[[4597], [5530], [5684], [672], [5770], [1054], [1839], [1353]]\n",
      "\n",
      "\n",
      "[[4597, 5530], [672, 5684], [1054, 5770], [1353, 1839]]\n",
      "[[672, 4597, 5530, 5684], [1054, 1353, 1839, 5770]]\n",
      "[[672, 1054, 1353, 1839, 4597, 5530, 5684, 5770]]\n",
      "[672, 1054, 1353, 1839, 4597, 5530, 5684, 5770]\n"
     ]
    }
   ],
   "source": [
    "def merge(a,b):\n",
    "    l = []\n",
    "    x = 0\n",
    "    y = 0\n",
    "    for i in range(len(a) + len(b)):\n",
    "        if x <= len(a) - 1 and y <= len(a) - 1:\n",
    "            if a[x] < b[y]:\n",
    "                l.append(a[x])\n",
    "                x += 1\n",
    "            else:\n",
    "                l.append(b[y])\n",
    "                y += 1\n",
    "        else:\n",
    "            if x < y:\n",
    "                l.append(a[x])\n",
    "                x += 1\n",
    "            else:\n",
    "                l.append(b[y])\n",
    "                y += 1\n",
    "    return l\n",
    "            \n",
    "\n",
    "        \n",
    "def mergeSort(array):\n",
    "    c0 = len(array)\n",
    "    for i in range(int(m.log2(c0))):\n",
    "        z = 0\n",
    "        l = []\n",
    "        for j in range(int(len(array)/2)):\n",
    "            l.append(merge(array[z],array[z+1]))\n",
    "            z += 2\n",
    "        array = l\n",
    "        print(array)\n",
    "    return array[0]\n",
    "            \n",
    "    \n",
    "l = randArray(8)\n",
    "print(l)\n",
    "l = [[i] for i in l]\n",
    "print(l)\n",
    "print(\"\\n\")\n",
    "print(mergeSort(l))"
   ]
  },
  {
   "cell_type": "markdown",
   "metadata": {},
   "source": [
    "###### Quicksort"
   ]
  },
  {
   "cell_type": "markdown",
   "metadata": {},
   "source": [
    "$T(n) = \\mathcal{O}(n^2)$"
   ]
  },
  {
   "cell_type": "code",
   "execution_count": 443,
   "metadata": {},
   "outputs": [
    {
     "name": "stdout",
     "output_type": "stream",
     "text": [
      "\n",
      "\n"
     ]
    },
    {
     "data": {
      "text/plain": [
       "[[1], [2], [3], [4], [5], [6], [7], [8], [9]]"
      ]
     },
     "execution_count": 443,
     "metadata": {},
     "output_type": "execute_result"
    }
   ],
   "source": [
    "def pickPivot(array):\n",
    "    p = random.randint(0,len(array)-1)\n",
    "    return p\n",
    "\n",
    "def partition(array):\n",
    "    left = []\n",
    "    right = []\n",
    "    l = []\n",
    "    if len(array) > 1:\n",
    "        for i in array:\n",
    "            if i < array[0]:\n",
    "                left.append(i)\n",
    "            if i > array[0]:\n",
    "                right.append(i)\n",
    "        if len(left) >= 1:\n",
    "            l.append(left)\n",
    "        l.append([array[0]])\n",
    "        if len(right) >= 1:\n",
    "            l.append(right)\n",
    "    else:\n",
    "        l.append(array)\n",
    "    return l\n",
    "\n",
    "def quickSort(array):\n",
    "    c = len(array)\n",
    "    array = [array]\n",
    "    while len(array) < c:\n",
    "        l = []\n",
    "        for i in array:\n",
    "            l += partition(i)\n",
    "        array = l\n",
    "    return array\n",
    "            \n",
    "l = list(range(1,10))\n",
    "print(\"\\n\")\n",
    "\n",
    "quickSort(l)\n",
    "#partition([1,2])"
   ]
  }
 ],
 "metadata": {
  "kernelspec": {
   "display_name": "Python 3",
   "language": "python",
   "name": "python3"
  },
  "language_info": {
   "codemirror_mode": {
    "name": "ipython",
    "version": 3
   },
   "file_extension": ".py",
   "mimetype": "text/x-python",
   "name": "python",
   "nbconvert_exporter": "python",
   "pygments_lexer": "ipython3",
   "version": "3.7.4"
  }
 },
 "nbformat": 4,
 "nbformat_minor": 4
}
