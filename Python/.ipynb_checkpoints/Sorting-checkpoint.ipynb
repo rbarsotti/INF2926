{
 "cells": [
  {
   "cell_type": "markdown",
   "metadata": {},
   "source": [
    "# Sorting"
   ]
  },
  {
   "cell_type": "code",
   "execution_count": 69,
   "metadata": {},
   "outputs": [],
   "source": [
    "import random\n",
    "import math as m"
   ]
  },
  {
   "cell_type": "code",
   "execution_count": 70,
   "metadata": {},
   "outputs": [],
   "source": [
    "def randArray(n):\n",
    "    l = []\n",
    "    while len(l) < n:\n",
    "        l.append(random.randint(1,6000))\n",
    "    return l"
   ]
  },
  {
   "cell_type": "markdown",
   "metadata": {},
   "source": [
    "###### Bubble Sort"
   ]
  },
  {
   "cell_type": "markdown",
   "metadata": {},
   "source": [
    "$T(n) = \\mathcal{O}(n^2)$"
   ]
  },
  {
   "cell_type": "code",
   "execution_count": 27,
   "metadata": {},
   "outputs": [
    {
     "name": "stdout",
     "output_type": "stream",
     "text": [
      "[1402, 1571, 605, 5351, 4062, 1983, 411, 690, 561, 2675]\n",
      "[411, 561, 605, 690, 1402, 1571, 1983, 2675, 4062, 5351]\n"
     ]
    }
   ],
   "source": [
    "def bubbleSort(array):\n",
    "    size = len(array)\n",
    "    for i in range(size):\n",
    "        for j in range(size -1):\n",
    "            if array[j+1] < array[j]:\n",
    "                temp = array[j]\n",
    "                array[j] = array[j+1]\n",
    "                array[j+1] = temp\n",
    "    return array\n",
    "\n",
    "l1 = randArray(10)\n",
    "print(l1)\n",
    "l2 = bubbleSort(l1)\n",
    "print(l2)"
   ]
  },
  {
   "cell_type": "markdown",
   "metadata": {},
   "source": [
    "###### Mergesort"
   ]
  },
  {
   "cell_type": "markdown",
   "metadata": {},
   "source": [
    "$T(n) = \\mathcal{O}(nlog(n))$"
   ]
  },
  {
   "cell_type": "code",
   "execution_count": 123,
   "metadata": {},
   "outputs": [
    {
     "name": "stdout",
     "output_type": "stream",
     "text": [
      "[[2654], [1952], [4712], [5527], [2557], [931], [2068], [661]]\n",
      "\n",
      "\n",
      "[[1952, 2654], [4712, 5527], [931, 2557], [661, 2068]]\n",
      "[[1952, 2654, 4712, 5527], [661, 931, 2068, 2557]]\n",
      "[[661, 931, 1952, 2068, 2557, 2654, 4712, 5527]]\n",
      "[661, 931, 1952, 2068, 2557, 2654, 4712, 5527]\n"
     ]
    }
   ],
   "source": [
    "def merge(a,b):\n",
    "    l = []\n",
    "    x = 0\n",
    "    y = 0\n",
    "    for i in range(len(a) + len(b)):\n",
    "        if x <= len(a) - 1 and y <= len(a) - 1:\n",
    "            if a[x] < b[y]:\n",
    "                l.append(a[x])\n",
    "                x += 1\n",
    "            else:\n",
    "                l.append(b[y])\n",
    "                y += 1\n",
    "        else:\n",
    "            if x < y:\n",
    "                l.append(a[x])\n",
    "                x += 1\n",
    "            else:\n",
    "                l.append(b[y])\n",
    "                y += 1\n",
    "    return l\n",
    "            \n",
    "\n",
    "        \n",
    "def mergeSort(array):\n",
    "    c0 = len(array)\n",
    "    l = []\n",
    "    for i in range(int(m.log2(c0))):\n",
    "        z = 0\n",
    "        for j in range(int(len(array)/2)):\n",
    "            l.append(merge(array[z],array[z+1]))\n",
    "            z += 2\n",
    "        array = l\n",
    "        print(array)\n",
    "        l = []\n",
    "    return array[0]\n",
    "            \n",
    "    \n",
    "l = randArray(8)\n",
    "l = [[i] for i in l]\n",
    "print(l)\n",
    "print(\"\\n\")\n",
    "print(mergeSort(l))"
   ]
  }
 ],
 "metadata": {
  "kernelspec": {
   "display_name": "Python 3",
   "language": "python",
   "name": "python3"
  },
  "language_info": {
   "codemirror_mode": {
    "name": "ipython",
    "version": 3
   },
   "file_extension": ".py",
   "mimetype": "text/x-python",
   "name": "python",
   "nbconvert_exporter": "python",
   "pygments_lexer": "ipython3",
   "version": "3.7.4"
  }
 },
 "nbformat": 4,
 "nbformat_minor": 4
}
